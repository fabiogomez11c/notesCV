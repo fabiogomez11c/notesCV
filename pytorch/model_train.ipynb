{
 "cells": [
  {
   "cell_type": "code",
   "execution_count": 2,
   "metadata": {},
   "outputs": [],
   "source": [
    "import torch\n",
    "from torch import nn\n",
    "from torch.utils.data import DataLoader\n",
    "from torchvision import datasets\n",
    "from torchvision.transforms import ToTensor\n"
   ]
  },
  {
   "cell_type": "code",
   "execution_count": 3,
   "metadata": {},
   "outputs": [],
   "source": [
    "# download data\n",
    "train_data = datasets.FashionMNIST(\n",
    "  root=\"data\",\n",
    "  train=True,\n",
    "  download=True,\n",
    "  transform=ToTensor()\n",
    ")\n",
    "\n",
    "test_data = datasets.FashionMNIST(\n",
    "  root=\"data\",\n",
    "  train=False,\n",
    "  download=True,\n",
    "  transform=ToTensor()\n",
    ")"
   ]
  },
  {
   "cell_type": "code",
   "execution_count": 4,
   "metadata": {},
   "outputs": [
    {
     "name": "stdout",
     "output_type": "stream",
     "text": [
      "torch.Size([64, 1, 28, 28])\n",
      "torch.Size([64]) torch.int64\n"
     ]
    }
   ],
   "source": [
    "batch_size = 64\n",
    "\n",
    "train_dataloader = DataLoader(train_data, batch_size=batch_size) # convert into iterable of batches\n",
    "test_dataloader = DataLoader(test_data, batch_size=batch_size)\n",
    "\n",
    "for X, y in test_dataloader:\n",
    "  print(X.shape)\n",
    "  print(y.shape, y.dtype)\n",
    "  break"
   ]
  },
  {
   "cell_type": "code",
   "execution_count": 5,
   "metadata": {},
   "outputs": [
    {
     "name": "stdout",
     "output_type": "stream",
     "text": [
      "Using cpu device\n",
      "NeuralNetwork(\n",
      "  (flatten): Flatten(start_dim=1, end_dim=-1)\n",
      "  (linear_relu_stack): Sequential(\n",
      "    (0): Linear(in_features=784, out_features=512, bias=True)\n",
      "    (1): ReLU()\n",
      "    (2): Linear(in_features=512, out_features=512, bias=True)\n",
      "    (3): ReLU()\n",
      "    (4): Linear(in_features=512, out_features=10, bias=True)\n",
      "  )\n",
      ")\n"
     ]
    }
   ],
   "source": [
    "# Get cpu or gpu device for training.\n",
    "device = \"cuda\" if torch.cuda.is_available() else \"cpu\"\n",
    "print(f\"Using {device} device\")\n",
    "\n",
    "# Define model\n",
    "class NeuralNetwork(nn.Module):\n",
    "    def __init__(self):\n",
    "        super().__init__()\n",
    "        self.flatten = nn.Flatten()\n",
    "        self.linear_relu_stack = nn.Sequential(\n",
    "            nn.Linear(28*28, 512),\n",
    "            nn.ReLU(),\n",
    "            nn.Linear(512, 512),\n",
    "            nn.ReLU(),\n",
    "            nn.Linear(512, 10)\n",
    "        )\n",
    "\n",
    "    def forward(self, x):\n",
    "        x = self.flatten(x)\n",
    "        logits = self.linear_relu_stack(x)\n",
    "        return logits\n",
    "\n",
    "model = NeuralNetwork().to(device)\n",
    "print(model)"
   ]
  },
  {
   "cell_type": "code",
   "execution_count": 6,
   "metadata": {},
   "outputs": [],
   "source": [
    "# optimizing\n",
    "loss_fn = nn.CrossEntropyLoss()\n",
    "optimizer = torch.optim.SGD(model.parameters(), lr=1e-3)"
   ]
  },
  {
   "cell_type": "code",
   "execution_count": 7,
   "metadata": {},
   "outputs": [],
   "source": [
    "def train(dataloader, model, loss_fn, optimizer):\n",
    "  size = len(dataloader.dataset)\n",
    "  model.train()\n",
    "  for batch, (X, y) in enumerate(dataloader):\n",
    "    X, y = X.to(device), y.to(device)\n",
    "\n",
    "    # Compute prediciton error\n",
    "    pred = model(X)\n",
    "    loss = loss_fn(pred, y)\n",
    "\n",
    "    # Backpropagation\n",
    "    optimizer.zero_grad()\n",
    "    loss.backward()\n",
    "    optimizer.step()\n",
    "\n",
    "    if batch % 100 == 0:\n",
    "      loss, current = loss.item(), batch * len(X)\n",
    "      print(f\"loss: {loss:>7f} [{current:>5d}/{size:>5d}]\")"
   ]
  },
  {
   "cell_type": "code",
   "execution_count": 8,
   "metadata": {},
   "outputs": [],
   "source": [
    "def test(dataloader, model, loss_fn):\n",
    "  size = len(dataloader.dataset)\n",
    "  num_batches = len(dataloader)\n",
    "  model.eval()\n",
    "  test_loss, correct = 0, 0\n",
    "  with torch.no_grad():\n",
    "    for X, y in dataloader:\n",
    "      X, y = X.to(device), y.to(device)\n",
    "      pred = model(X)\n",
    "      test_loss += loss_fn(pred, y).item()\n",
    "      correct += (pred.argmax(1) == y).type(torch.float).sum().item()\n",
    "  test_loss /= num_batches\n",
    "  correct /= size\n",
    "  print(f\"Test Error: \\n Accuracy: {(100*correct):>0.1f}%, Avg loss: {test_loss:>8f} \\n\")\n",
    " "
   ]
  },
  {
   "cell_type": "code",
   "execution_count": 9,
   "metadata": {},
   "outputs": [
    {
     "name": "stdout",
     "output_type": "stream",
     "text": [
      "Epoch 1\n",
      "-------------------------------\n",
      "loss: 2.309043 [    0/60000]\n",
      "loss: 2.290317 [ 6400/60000]\n",
      "loss: 2.272482 [12800/60000]\n",
      "loss: 2.267389 [19200/60000]\n",
      "loss: 2.244006 [25600/60000]\n",
      "loss: 2.222526 [32000/60000]\n",
      "loss: 2.232144 [38400/60000]\n",
      "loss: 2.199768 [44800/60000]\n",
      "loss: 2.198438 [51200/60000]\n",
      "loss: 2.163111 [57600/60000]\n",
      "Test Error: \n",
      " Accuracy: 45.0%, Avg loss: 2.154619 \n",
      "\n",
      "Epoch 2\n",
      "-------------------------------\n",
      "loss: 2.173591 [    0/60000]\n",
      "loss: 2.155401 [ 6400/60000]\n",
      "loss: 2.095979 [12800/60000]\n",
      "loss: 2.111155 [19200/60000]\n",
      "loss: 2.063006 [25600/60000]\n",
      "loss: 2.004355 [32000/60000]\n",
      "loss: 2.040375 [38400/60000]\n",
      "loss: 1.960314 [44800/60000]\n",
      "loss: 1.962134 [51200/60000]\n",
      "loss: 1.896447 [57600/60000]\n",
      "Test Error: \n",
      " Accuracy: 51.2%, Avg loss: 1.884420 \n",
      "\n",
      "Epoch 3\n",
      "-------------------------------\n",
      "loss: 1.925824 [    0/60000]\n",
      "loss: 1.891317 [ 6400/60000]\n",
      "loss: 1.763362 [12800/60000]\n",
      "loss: 1.811741 [19200/60000]\n",
      "loss: 1.705322 [25600/60000]\n",
      "loss: 1.649265 [32000/60000]\n",
      "loss: 1.690148 [38400/60000]\n",
      "loss: 1.582524 [44800/60000]\n",
      "loss: 1.603256 [51200/60000]\n",
      "loss: 1.511254 [57600/60000]\n",
      "Test Error: \n",
      " Accuracy: 60.2%, Avg loss: 1.515712 \n",
      "\n",
      "Epoch 4\n",
      "-------------------------------\n",
      "loss: 1.584974 [    0/60000]\n",
      "loss: 1.551061 [ 6400/60000]\n",
      "loss: 1.388236 [12800/60000]\n",
      "loss: 1.471810 [19200/60000]\n",
      "loss: 1.353814 [25600/60000]\n",
      "loss: 1.338804 [32000/60000]\n",
      "loss: 1.368083 [38400/60000]\n",
      "loss: 1.287464 [44800/60000]\n",
      "loss: 1.312254 [51200/60000]\n",
      "loss: 1.224854 [57600/60000]\n",
      "Test Error: \n",
      " Accuracy: 63.4%, Avg loss: 1.245255 \n",
      "\n",
      "Epoch 5\n",
      "-------------------------------\n",
      "loss: 1.322144 [    0/60000]\n",
      "loss: 1.310245 [ 6400/60000]\n",
      "loss: 1.134758 [12800/60000]\n",
      "loss: 1.246106 [19200/60000]\n",
      "loss: 1.125211 [25600/60000]\n",
      "loss: 1.139396 [32000/60000]\n",
      "loss: 1.169252 [38400/60000]\n",
      "loss: 1.105822 [44800/60000]\n",
      "loss: 1.131689 [51200/60000]\n",
      "loss: 1.059866 [57600/60000]\n",
      "Test Error: \n",
      " Accuracy: 64.8%, Avg loss: 1.078404 \n",
      "\n",
      "Done!\n"
     ]
    }
   ],
   "source": [
    "epochs = 5\n",
    "for t in range(epochs):\n",
    "    print(f\"Epoch {t+1}\\n-------------------------------\")\n",
    "    train(train_dataloader, model, loss_fn, optimizer)\n",
    "    test(test_dataloader, model, loss_fn)\n",
    "print(\"Done!\")"
   ]
  },
  {
   "cell_type": "code",
   "execution_count": 10,
   "metadata": {},
   "outputs": [
    {
     "name": "stdout",
     "output_type": "stream",
     "text": [
      "Saved PyTorch Model State to model.pth\n"
     ]
    }
   ],
   "source": [
    "torch.save(model.state_dict(), \"model.pth\")\n",
    "print(\"Saved PyTorch Model State to model.pth\")"
   ]
  },
  {
   "cell_type": "code",
   "execution_count": 11,
   "metadata": {},
   "outputs": [
    {
     "data": {
      "text/plain": [
       "<All keys matched successfully>"
      ]
     },
     "execution_count": 11,
     "metadata": {},
     "output_type": "execute_result"
    }
   ],
   "source": [
    "model = NeuralNetwork()\n",
    "model.load_state_dict(torch.load(\"model.pth\"))"
   ]
  },
  {
   "cell_type": "code",
   "execution_count": 12,
   "metadata": {},
   "outputs": [
    {
     "name": "stdout",
     "output_type": "stream",
     "text": [
      "Predicted: \"Ankle boot\", Actual: \"Ankle boot\"\n"
     ]
    }
   ],
   "source": [
    "classes = [\n",
    "    \"T-shirt/top\",\n",
    "    \"Trouser\",\n",
    "    \"Pullover\",\n",
    "    \"Dress\",\n",
    "    \"Coat\",\n",
    "    \"Sandal\",\n",
    "    \"Shirt\",\n",
    "    \"Sneaker\",\n",
    "    \"Bag\",\n",
    "    \"Ankle boot\",\n",
    "]\n",
    "\n",
    "model.eval()\n",
    "x, y = test_data[0][0], test_data[0][1]\n",
    "with torch.no_grad():\n",
    "    pred = model(x)\n",
    "    predicted, actual = classes[pred[0].argmax(0)], classes[y]\n",
    "    print(f'Predicted: \"{predicted}\", Actual: \"{actual}\"')"
   ]
  },
  {
   "cell_type": "code",
   "execution_count": 13,
   "metadata": {},
   "outputs": [
    {
     "data": {
      "text/plain": [
       "tensor([[-1.8405, -2.8090, -0.6886, -1.5514, -0.8741,  2.2998, -0.9152,  2.4816,\n",
       "          1.7218,  2.9086]])"
      ]
     },
     "execution_count": 13,
     "metadata": {},
     "output_type": "execute_result"
    }
   ],
   "source": [
    "pred # getting the logits"
   ]
  },
  {
   "cell_type": "code",
   "execution_count": 16,
   "metadata": {},
   "outputs": [
    {
     "name": "stdout",
     "output_type": "stream",
     "text": [
      "torch.Size([3, 28, 28])\n",
      "torch.Size([3, 28, 28])\n"
     ]
    }
   ],
   "source": [
    "random_data = torch.rand(3, 28, 28) # creating a random set\n",
    "# two ways to get the same value\n",
    "print(random_data.shape)\n",
    "print(random_data.size())"
   ]
  },
  {
   "cell_type": "code",
   "execution_count": 17,
   "metadata": {},
   "outputs": [
    {
     "name": "stdout",
     "output_type": "stream",
     "text": [
      "torch.Size([3, 784])\n"
     ]
    }
   ],
   "source": [
    "flatten = nn.Flatten() # instance to flatten the array\n",
    "flat_image = flatten(random_data)\n",
    "print(flat_image.size()) # note that the first dimension remains"
   ]
  },
  {
   "cell_type": "code",
   "execution_count": 18,
   "metadata": {},
   "outputs": [
    {
     "name": "stdout",
     "output_type": "stream",
     "text": [
      "torch.Size([3, 20])\n"
     ]
    }
   ],
   "source": [
    "layer1 = nn.Linear(in_features=28*28, out_features=20) # input is image flatten and output is 20 neurons\n",
    "hidden1 = layer1(flat_image) # forward pass through the layer\n",
    "print(hidden1.size())"
   ]
  },
  {
   "cell_type": "code",
   "execution_count": 19,
   "metadata": {},
   "outputs": [
    {
     "name": "stdout",
     "output_type": "stream",
     "text": [
      "Before ReLU: tensor([[-0.4218, -0.1658, -0.2595,  0.0882,  0.0466, -0.6728, -0.4905,  0.5081,\n",
      "          0.3618,  0.4115, -0.2237,  0.0749,  0.0951,  0.1120,  0.1686,  0.3804,\n",
      "          0.2788, -0.3914, -0.1942, -0.6738],\n",
      "        [-0.4927, -0.3630, -0.1684, -0.1227,  0.0605, -0.4330, -0.7126,  0.6651,\n",
      "         -0.0563,  0.2220,  0.0334,  0.3570,  0.1054,  0.1901, -0.1289,  0.0338,\n",
      "         -0.0379, -0.1796, -0.2330, -0.4424],\n",
      "        [-0.4462, -0.6690, -0.0901, -0.5295,  0.1529, -0.4276, -0.5698,  0.5504,\n",
      "         -0.2445,  0.4684, -0.2727,  0.1057, -0.1550,  0.1633, -0.0614,  0.3705,\n",
      "          0.0146, -0.4489, -0.0071, -0.6275]], grad_fn=<AddmmBackward0>)\n",
      "\n",
      "\n",
      "After ReLU: tensor([[0.0000, 0.0000, 0.0000, 0.0882, 0.0466, 0.0000, 0.0000, 0.5081, 0.3618,\n",
      "         0.4115, 0.0000, 0.0749, 0.0951, 0.1120, 0.1686, 0.3804, 0.2788, 0.0000,\n",
      "         0.0000, 0.0000],\n",
      "        [0.0000, 0.0000, 0.0000, 0.0000, 0.0605, 0.0000, 0.0000, 0.6651, 0.0000,\n",
      "         0.2220, 0.0334, 0.3570, 0.1054, 0.1901, 0.0000, 0.0338, 0.0000, 0.0000,\n",
      "         0.0000, 0.0000],\n",
      "        [0.0000, 0.0000, 0.0000, 0.0000, 0.1529, 0.0000, 0.0000, 0.5504, 0.0000,\n",
      "         0.4684, 0.0000, 0.1057, 0.0000, 0.1633, 0.0000, 0.3705, 0.0146, 0.0000,\n",
      "         0.0000, 0.0000]], grad_fn=<ReluBackward0>)\n"
     ]
    }
   ],
   "source": [
    "print(f\"Before ReLU: {hidden1}\\n\\n\") # result of each activation per image\n",
    "hidden1 = nn.ReLU()(hidden1)\n",
    "print(f\"After ReLU: {hidden1}\") # result after activation per image"
   ]
  },
  {
   "cell_type": "code",
   "execution_count": 48,
   "metadata": {},
   "outputs": [
    {
     "data": {
      "text/plain": [
       "Parameter containing:\n",
       "tensor([[ 0.0317,  0.0195, -0.0051,  ...,  0.0006,  0.0085, -0.0003],\n",
       "        [-0.0121,  0.0285,  0.0175,  ..., -0.0224, -0.0051,  0.0344],\n",
       "        [-0.0126,  0.0217,  0.0297,  ...,  0.0101, -0.0119, -0.0034],\n",
       "        ...,\n",
       "        [-0.0260,  0.0091, -0.0129,  ..., -0.0232,  0.0162,  0.0063],\n",
       "        [ 0.0253, -0.0185,  0.0096,  ..., -0.0223, -0.0236,  0.0088],\n",
       "        [ 0.0159,  0.0293, -0.0324,  ..., -0.0099, -0.0067, -0.0131]],\n",
       "       requires_grad=True)"
      ]
     },
     "execution_count": 48,
     "metadata": {},
     "output_type": "execute_result"
    }
   ],
   "source": [
    "# grab the parameters of the hidden layer\n",
    "params = {}\n",
    "for b in layer1.named_parameters():\n",
    "  params[b[0]] = b[1]\n",
    "params['weight']"
   ]
  }
 ],
 "metadata": {
  "kernelspec": {
   "display_name": "Python 3.9.15 ('notescv')",
   "language": "python",
   "name": "python3"
  },
  "language_info": {
   "codemirror_mode": {
    "name": "ipython",
    "version": 3
   },
   "file_extension": ".py",
   "mimetype": "text/x-python",
   "name": "python",
   "nbconvert_exporter": "python",
   "pygments_lexer": "ipython3",
   "version": "3.9.15 | packaged by conda-forge | (main, Nov 22 2022, 08:48:25) \n[Clang 14.0.6 ]"
  },
  "orig_nbformat": 4,
  "vscode": {
   "interpreter": {
    "hash": "7784a38ceb4c85b9ee9d0133e33432bc78ed07aabe1f5b79f3925cc8067797f6"
   }
  }
 },
 "nbformat": 4,
 "nbformat_minor": 2
}
