{
 "cells": [
  {
   "cell_type": "code",
   "execution_count": 1,
   "metadata": {},
   "outputs": [],
   "source": [
    "import torch\n",
    "from torch import nn\n",
    "from torch.utils.data import DataLoader\n",
    "from torchvision import datasets\n",
    "from torchvision.transforms import ToTensor\n"
   ]
  },
  {
   "cell_type": "code",
   "execution_count": 2,
   "metadata": {},
   "outputs": [],
   "source": [
    "# download data\n",
    "train_data = datasets.FashionMNIST(\n",
    "  root=\"data\",\n",
    "  train=True,\n",
    "  download=True,\n",
    "  transform=ToTensor()\n",
    ")\n",
    "\n",
    "test_data = datasets.FashionMNIST(\n",
    "  root=\"data\",\n",
    "  train=False,\n",
    "  download=True,\n",
    "  transform=ToTensor()\n",
    ")"
   ]
  },
  {
   "cell_type": "code",
   "execution_count": 3,
   "metadata": {},
   "outputs": [
    {
     "name": "stdout",
     "output_type": "stream",
     "text": [
      "torch.Size([64, 1, 28, 28])\n",
      "torch.Size([64]) torch.int64\n"
     ]
    }
   ],
   "source": [
    "batch_size = 64\n",
    "\n",
    "train_dataloader = DataLoader(train_data, batch_size=batch_size) # convert into iterable of batches\n",
    "test_dataloader = DataLoader(test_data, batch_size=batch_size)\n",
    "\n",
    "for X, y in test_dataloader:\n",
    "  print(X.shape)\n",
    "  print(y.shape, y.dtype)\n",
    "  break"
   ]
  },
  {
   "cell_type": "code",
   "execution_count": 4,
   "metadata": {},
   "outputs": [
    {
     "name": "stdout",
     "output_type": "stream",
     "text": [
      "Using cpu device\n",
      "NeuralNetwork(\n",
      "  (flatten): Flatten(start_dim=1, end_dim=-1)\n",
      "  (linear_relu_stack): Sequential(\n",
      "    (0): Linear(in_features=784, out_features=512, bias=True)\n",
      "    (1): ReLU()\n",
      "    (2): Linear(in_features=512, out_features=512, bias=True)\n",
      "    (3): ReLU()\n",
      "    (4): Linear(in_features=512, out_features=10, bias=True)\n",
      "  )\n",
      ")\n"
     ]
    }
   ],
   "source": [
    "# Get cpu or gpu device for training.\n",
    "device = \"cuda\" if torch.cuda.is_available() else \"cpu\"\n",
    "print(f\"Using {device} device\")\n",
    "\n",
    "# Define model\n",
    "class NeuralNetwork(nn.Module):\n",
    "    def __init__(self):\n",
    "        super().__init__()\n",
    "        self.flatten = nn.Flatten()\n",
    "        self.linear_relu_stack = nn.Sequential(\n",
    "            nn.Linear(28*28, 512),\n",
    "            nn.ReLU(),\n",
    "            nn.Linear(512, 512),\n",
    "            nn.ReLU(),\n",
    "            nn.Linear(512, 10)\n",
    "        )\n",
    "\n",
    "    def forward(self, x):\n",
    "        x = self.flatten(x)\n",
    "        logits = self.linear_relu_stack(x)\n",
    "        return logits\n",
    "\n",
    "model = NeuralNetwork().to(device)\n",
    "print(model)"
   ]
  },
  {
   "cell_type": "code",
   "execution_count": 5,
   "metadata": {},
   "outputs": [],
   "source": [
    "# optimizing\n",
    "loss_fn = nn.CrossEntropyLoss()\n",
    "optimizer = torch.optim.SGD(model.parameters(), lr=1e-3)"
   ]
  },
  {
   "cell_type": "code",
   "execution_count": 6,
   "metadata": {},
   "outputs": [],
   "source": [
    "def train(dataloader, model, loss_fn, optimizer):\n",
    "  size = len(dataloader.dataset)\n",
    "  model.train()\n",
    "  for batch, (X, y) in enumerate(dataloader):\n",
    "    X, y = X.to(device), y.to(device)\n",
    "\n",
    "    # Compute prediciton error\n",
    "    pred = model(X)\n",
    "    loss = loss_fn(pred, y)\n",
    "\n",
    "    # Backpropagation\n",
    "    optimizer.zero_grad()\n",
    "    loss.backward()\n",
    "    optimizer.step()\n",
    "\n",
    "    if batch % 100 == 0:\n",
    "      loss, current = loss.item(), batch * len(X)\n",
    "      print(f\"loss: {loss:>7f} [{current:>5d}/{size:>5d}]\")"
   ]
  },
  {
   "cell_type": "code",
   "execution_count": 7,
   "metadata": {},
   "outputs": [],
   "source": [
    "def test(dataloader, model, loss_fn):\n",
    "  size = len(dataloader.dataset)\n",
    "  num_batches = len(dataloader)\n",
    "  model.eval()\n",
    "  test_loss, correct = 0, 0\n",
    "  with torch.no_grad():\n",
    "    for X, y in dataloader:\n",
    "      X, y = X.to(device), y.to(device)\n",
    "      pred = model(X)\n",
    "      test_loss += loss_fn(pred, y).item()\n",
    "      correct += (pred.argmax(1) == y).type(torch.float).sum().item()\n",
    "  test_loss /= num_batches\n",
    "  correct /= size\n",
    "  print(f\"Test Error: \\n Accuracy: {(100*correct):>0.1f}%, Avg loss: {test_loss:>8f} \\n\")"
   ]
  },
  {
   "cell_type": "code",
   "execution_count": 8,
   "metadata": {},
   "outputs": [
    {
     "name": "stdout",
     "output_type": "stream",
     "text": [
      "Epoch 1\n",
      "-------------------------------\n",
      "loss: 2.304444 [    0/60000]\n",
      "loss: 2.298505 [ 6400/60000]\n",
      "loss: 2.285719 [12800/60000]\n",
      "loss: 2.277902 [19200/60000]\n",
      "loss: 2.260002 [25600/60000]\n",
      "loss: 2.238669 [32000/60000]\n",
      "loss: 2.239097 [38400/60000]\n",
      "loss: 2.210358 [44800/60000]\n",
      "loss: 2.208947 [51200/60000]\n",
      "loss: 2.187405 [57600/60000]\n",
      "Test Error: \n",
      " Accuracy: 48.1%, Avg loss: 2.180581 \n",
      "\n",
      "Epoch 2\n",
      "-------------------------------\n",
      "loss: 2.181034 [    0/60000]\n",
      "loss: 2.181141 [ 6400/60000]\n",
      "loss: 2.139420 [12800/60000]\n",
      "loss: 2.152759 [19200/60000]\n",
      "loss: 2.097204 [25600/60000]\n",
      "loss: 2.053293 [32000/60000]\n",
      "loss: 2.075538 [38400/60000]\n",
      "loss: 2.006816 [44800/60000]\n",
      "loss: 2.010810 [51200/60000]\n",
      "loss: 1.955721 [57600/60000]\n",
      "Test Error: \n",
      " Accuracy: 55.1%, Avg loss: 1.946476 \n",
      "\n",
      "Epoch 3\n",
      "-------------------------------\n",
      "loss: 1.965642 [    0/60000]\n",
      "loss: 1.948004 [ 6400/60000]\n",
      "loss: 1.852030 [12800/60000]\n",
      "loss: 1.888397 [19200/60000]\n",
      "loss: 1.759469 [25600/60000]\n",
      "loss: 1.728680 [32000/60000]\n",
      "loss: 1.748620 [38400/60000]\n",
      "loss: 1.654413 [44800/60000]\n",
      "loss: 1.669882 [51200/60000]\n",
      "loss: 1.576751 [57600/60000]\n",
      "Test Error: \n",
      " Accuracy: 58.6%, Avg loss: 1.583479 \n",
      "\n",
      "Epoch 4\n",
      "-------------------------------\n",
      "loss: 1.639761 [    0/60000]\n",
      "loss: 1.609527 [ 6400/60000]\n",
      "loss: 1.474859 [12800/60000]\n",
      "loss: 1.536350 [19200/60000]\n",
      "loss: 1.392367 [25600/60000]\n",
      "loss: 1.407032 [32000/60000]\n",
      "loss: 1.416591 [38400/60000]\n",
      "loss: 1.345568 [44800/60000]\n",
      "loss: 1.368808 [51200/60000]\n",
      "loss: 1.275904 [57600/60000]\n",
      "Test Error: \n",
      " Accuracy: 62.0%, Avg loss: 1.297574 \n",
      "\n",
      "Epoch 5\n",
      "-------------------------------\n",
      "loss: 1.371831 [    0/60000]\n",
      "loss: 1.354732 [ 6400/60000]\n",
      "loss: 1.201572 [12800/60000]\n",
      "loss: 1.292875 [19200/60000]\n",
      "loss: 1.155223 [25600/60000]\n",
      "loss: 1.191351 [32000/60000]\n",
      "loss: 1.207092 [38400/60000]\n",
      "loss: 1.150327 [44800/60000]\n",
      "loss: 1.177845 [51200/60000]\n",
      "loss: 1.099433 [57600/60000]\n",
      "Test Error: \n",
      " Accuracy: 64.1%, Avg loss: 1.118625 \n",
      "\n",
      "Done!\n"
     ]
    }
   ],
   "source": [
    "epochs = 5\n",
    "for t in range(epochs):\n",
    "    print(f\"Epoch {t+1}\\n-------------------------------\")\n",
    "    train(train_dataloader, model, loss_fn, optimizer)\n",
    "    test(test_dataloader, model, loss_fn)\n",
    "print(\"Done!\")"
   ]
  },
  {
   "cell_type": "code",
   "execution_count": 9,
   "metadata": {},
   "outputs": [
    {
     "name": "stdout",
     "output_type": "stream",
     "text": [
      "Saved PyTorch Model State to model.pth\n"
     ]
    }
   ],
   "source": [
    "torch.save(model.state_dict(), \"model.pth\")\n",
    "print(\"Saved PyTorch Model State to model.pth\")"
   ]
  },
  {
   "cell_type": "code",
   "execution_count": 10,
   "metadata": {},
   "outputs": [
    {
     "data": {
      "text/plain": [
       "<All keys matched successfully>"
      ]
     },
     "execution_count": 10,
     "metadata": {},
     "output_type": "execute_result"
    }
   ],
   "source": [
    "model = NeuralNetwork()\n",
    "model.load_state_dict(torch.load(\"model.pth\"))"
   ]
  },
  {
   "cell_type": "code",
   "execution_count": 11,
   "metadata": {},
   "outputs": [
    {
     "name": "stdout",
     "output_type": "stream",
     "text": [
      "Predicted: \"Ankle boot\", Actual: \"Ankle boot\"\n"
     ]
    }
   ],
   "source": [
    "classes = [\n",
    "    \"T-shirt/top\",\n",
    "    \"Trouser\",\n",
    "    \"Pullover\",\n",
    "    \"Dress\",\n",
    "    \"Coat\",\n",
    "    \"Sandal\",\n",
    "    \"Shirt\",\n",
    "    \"Sneaker\",\n",
    "    \"Bag\",\n",
    "    \"Ankle boot\",\n",
    "]\n",
    "\n",
    "model.eval()\n",
    "x, y = test_data[0][0], test_data[0][1]\n",
    "with torch.no_grad():\n",
    "    pred = model(x)\n",
    "    predicted, actual = classes[pred[0].argmax(0)], classes[y]\n",
    "    print(f'Predicted: \"{predicted}\", Actual: \"{actual}\"')"
   ]
  },
  {
   "cell_type": "code",
   "execution_count": 12,
   "metadata": {},
   "outputs": [
    {
     "data": {
      "text/plain": [
       "torch.Size([1, 28, 28])"
      ]
     },
     "execution_count": 12,
     "metadata": {},
     "output_type": "execute_result"
    }
   ],
   "source": [
    "x.shape"
   ]
  },
  {
   "cell_type": "code",
   "execution_count": 13,
   "metadata": {},
   "outputs": [
    {
     "data": {
      "text/plain": [
       "9"
      ]
     },
     "execution_count": 13,
     "metadata": {},
     "output_type": "execute_result"
    }
   ],
   "source": [
    "y"
   ]
  },
  {
   "cell_type": "code",
   "execution_count": 14,
   "metadata": {},
   "outputs": [
    {
     "data": {
      "text/plain": [
       "tensor([[-2.2371, -2.5178, -0.7874, -1.9172, -0.6785,  2.3149, -0.9650,  2.6023,\n",
       "          1.7460,  2.9474]])"
      ]
     },
     "execution_count": 14,
     "metadata": {},
     "output_type": "execute_result"
    }
   ],
   "source": [
    "pred # getting the logits"
   ]
  },
  {
   "cell_type": "code",
   "execution_count": 15,
   "metadata": {},
   "outputs": [
    {
     "name": "stdout",
     "output_type": "stream",
     "text": [
      "torch.Size([3, 28, 28])\n",
      "torch.Size([3, 28, 28])\n"
     ]
    }
   ],
   "source": [
    "random_data = torch.rand(3, 28, 28) # creating a random set\n",
    "# two ways to get the same value\n",
    "print(random_data.shape)\n",
    "print(random_data.size())"
   ]
  },
  {
   "cell_type": "code",
   "execution_count": 16,
   "metadata": {},
   "outputs": [
    {
     "name": "stdout",
     "output_type": "stream",
     "text": [
      "torch.Size([3, 784])\n"
     ]
    }
   ],
   "source": [
    "flatten = nn.Flatten() # instance to flatten the array\n",
    "flat_image = flatten(random_data)\n",
    "print(flat_image.size()) # note that the first dimension remains"
   ]
  },
  {
   "cell_type": "code",
   "execution_count": 17,
   "metadata": {},
   "outputs": [
    {
     "name": "stdout",
     "output_type": "stream",
     "text": [
      "torch.Size([3, 20])\n"
     ]
    }
   ],
   "source": [
    "layer1 = nn.Linear(in_features=28*28, out_features=20) # input is image flatten and output is 20 neurons\n",
    "hidden1 = layer1(flat_image) # forward pass through the layer\n",
    "print(hidden1.size())"
   ]
  },
  {
   "cell_type": "code",
   "execution_count": 18,
   "metadata": {},
   "outputs": [
    {
     "name": "stdout",
     "output_type": "stream",
     "text": [
      "Before ReLU: tensor([[ 3.9256e-01, -6.1266e-01, -4.4406e-01,  1.6300e-01,  1.2100e-01,\n",
      "         -4.8544e-01,  8.6252e-02,  1.3206e-01,  5.0336e-02,  3.0496e-01,\n",
      "          3.7245e-01, -3.4766e-01, -4.3637e-01, -3.7825e-01, -2.3388e-01,\n",
      "         -7.5048e-01,  1.1577e-01, -6.4414e-04,  8.0040e-01, -2.0533e-02],\n",
      "        [-9.3234e-02, -7.1480e-01, -3.9238e-01,  2.1280e-01,  2.6324e-01,\n",
      "         -5.1239e-01,  2.2324e-01,  3.9740e-01,  2.2475e-01,  5.7993e-02,\n",
      "          8.5548e-01, -2.9849e-01, -4.3808e-01, -5.6405e-01, -1.9851e-01,\n",
      "         -1.6204e-01,  2.7664e-01, -1.0087e-01,  8.5103e-01, -4.0795e-02],\n",
      "        [ 1.9529e-02, -3.1077e-01, -1.6430e-01,  5.4918e-02,  3.0292e-01,\n",
      "         -4.1398e-01, -1.5894e-01,  3.0210e-01, -1.9161e-01,  2.2263e-01,\n",
      "          6.7973e-01, -6.5344e-01, -6.9539e-02, -2.4517e-01, -7.9543e-02,\n",
      "         -2.5453e-01,  1.6931e-01, -1.4008e-01,  7.3027e-01, -3.5497e-01]],\n",
      "       grad_fn=<AddmmBackward0>)\n",
      "\n",
      "\n",
      "After ReLU: tensor([[0.3926, 0.0000, 0.0000, 0.1630, 0.1210, 0.0000, 0.0863, 0.1321, 0.0503,\n",
      "         0.3050, 0.3725, 0.0000, 0.0000, 0.0000, 0.0000, 0.0000, 0.1158, 0.0000,\n",
      "         0.8004, 0.0000],\n",
      "        [0.0000, 0.0000, 0.0000, 0.2128, 0.2632, 0.0000, 0.2232, 0.3974, 0.2247,\n",
      "         0.0580, 0.8555, 0.0000, 0.0000, 0.0000, 0.0000, 0.0000, 0.2766, 0.0000,\n",
      "         0.8510, 0.0000],\n",
      "        [0.0195, 0.0000, 0.0000, 0.0549, 0.3029, 0.0000, 0.0000, 0.3021, 0.0000,\n",
      "         0.2226, 0.6797, 0.0000, 0.0000, 0.0000, 0.0000, 0.0000, 0.1693, 0.0000,\n",
      "         0.7303, 0.0000]], grad_fn=<ReluBackward0>)\n"
     ]
    }
   ],
   "source": [
    "print(f\"Before ReLU: {hidden1}\\n\\n\") # result of each activation per image\n",
    "hidden1 = nn.ReLU()(hidden1)\n",
    "print(f\"After ReLU: {hidden1}\") # result after activation per image"
   ]
  },
  {
   "cell_type": "code",
   "execution_count": 19,
   "metadata": {},
   "outputs": [
    {
     "data": {
      "text/plain": [
       "Parameter containing:\n",
       "tensor([[ 0.0340, -0.0028,  0.0182,  ..., -0.0025, -0.0026,  0.0179],\n",
       "        [-0.0273,  0.0049,  0.0302,  ...,  0.0157, -0.0182, -0.0268],\n",
       "        [-0.0199,  0.0338, -0.0342,  ..., -0.0131,  0.0027, -0.0324],\n",
       "        ...,\n",
       "        [-0.0353, -0.0105,  0.0063,  ...,  0.0185, -0.0183,  0.0186],\n",
       "        [ 0.0279, -0.0056, -0.0181,  ...,  0.0082,  0.0150,  0.0341],\n",
       "        [-0.0029,  0.0338, -0.0252,  ..., -0.0032, -0.0103,  0.0276]],\n",
       "       requires_grad=True)"
      ]
     },
     "execution_count": 19,
     "metadata": {},
     "output_type": "execute_result"
    }
   ],
   "source": [
    "# grab the parameters of the hidden layer\n",
    "params = {}\n",
    "for b in layer1.named_parameters():\n",
    "  params[b[0]] = b[1]\n",
    "params['weight']"
   ]
  }
 ],
 "metadata": {
  "kernelspec": {
   "display_name": "Python 3.9.15 ('notescv')",
   "language": "python",
   "name": "python3"
  },
  "language_info": {
   "codemirror_mode": {
    "name": "ipython",
    "version": 3
   },
   "file_extension": ".py",
   "mimetype": "text/x-python",
   "name": "python",
   "nbconvert_exporter": "python",
   "pygments_lexer": "ipython3",
   "version": "3.9.15"
  },
  "orig_nbformat": 4,
  "vscode": {
   "interpreter": {
    "hash": "7784a38ceb4c85b9ee9d0133e33432bc78ed07aabe1f5b79f3925cc8067797f6"
   }
  }
 },
 "nbformat": 4,
 "nbformat_minor": 2
}
